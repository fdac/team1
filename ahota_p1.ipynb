{
 "metadata": {
  "name": ""
 },
 "nbformat": 3,
 "nbformat_minor": 0,
 "worksheets": [
  {
   "cells": [
    {
     "cell_type": "code",
     "collapsed": false,
     "input": [
      "import json, requests, datetime, pickle\n",
      "\n",
      "URL_PREFIX = 'https://bitbucket.org/api/2.0/'\n",
      "DEF_QUERY  = 100\n",
      "\n",
      "parameter = 'repositories'\n",
      "per_page = '?pagelen=100'\n",
      "\n",
      "json_response = requests.get(URL_PREFIX + parameter + per_page).json()\n",
      "next_page = json_response['next']\n",
      "\n",
      "repos = {}\n",
      "users = {}\n",
      "private = 0\n",
      "\n",
      "cur_page = 1"
     ],
     "language": "python",
     "metadata": {},
     "outputs": [],
     "prompt_number": 24
    },
    {
     "cell_type": "code",
     "collapsed": false,
     "input": [
      "\n",
      "\n",
      "def extract_data(repo):\n",
      "    username, slash, reponame = repo['full_name'].partition('/')\n",
      "    update = datetime.datetime.strptime(repo['updated_on'], '%Y-%m-%dT%X.%f+00:00') # I think everything is in UTC\n",
      "    size = repo['size'] # bytes\n",
      "    language = repo['language'] # Seems to be empty most of the time\n",
      "    if repo['is_private']:\n",
      "        private += 1\n",
      "    repos[reponame] = { 'user':username, 'last_update':update, 'size':size, 'language':language }\n",
      "    try:\n",
      "        users[username].append(reponame)\n",
      "    except KeyError:\n",
      "        users[username] = [ reponame ]\n",
      "\n",
      "\n",
      "def get_next_page(page):\n",
      "    items = page['values']\n",
      "    for item in items:\n",
      "        extract_data(item)\n",
      "    return requests.get(page['next']).json()\n",
      "\n",
      "\n",
      "def query(num, page):\n",
      "    if num == 0:\n",
      "        # Go until there is nothing left!\n",
      "        while page.has_key('next'):\n",
      "            if cur_page % 100 == 0:\n",
      "                print 'On page', cur_page\n",
      "            page = get_next_page(page)\n",
      "            cur_page += 1\n",
      "    else:\n",
      "        for i in range(num):\n",
      "            page = get_next_page(page)"
     ],
     "language": "python",
     "metadata": {},
     "outputs": [],
     "prompt_number": 34
    },
    {
     "cell_type": "code",
     "collapsed": false,
     "input": [
      "# This is what the following lines do:\n",
      "#  - Try to load a pickled file from the disk\n",
      "#    - These pickled files are supposed to be caches of previously found usernames and repos. This is just to save time\n",
      "#  - If those files are there, it just loads them\n",
      "#  - If those files are NOT there, then it uses BitBucket's API to query DEF_QUERY number of pages\n",
      "#    - After it does this, it will save a pickled version of the dictionaries it generates to be used as cache above\n",
      "\n",
      "\n",
      "try:\n",
      "    users = pickle.load( open('./users.p', 'r') )\n",
      "    repos = pickle.load( open('./repos.p', 'r') )\n",
      "    print '-- Using cached users and repositories --'\n",
      "except IOError:\n",
      "    print '-- Grabbing', DEF_QUERY, 'pages --'\n",
      "    query(DEF_QUERY, json_response)\n",
      "    pickle.dump( users, open('./users.p', 'w') )\n",
      "    pickle.dump( repos, open('./repos.p', 'w') )\n",
      "    print '-- Results cached --'\n",
      "\n",
      "print 'Number of users found:', len(users.keys())\n",
      "print 'Number of repos found:', len(repos.keys())"
     ],
     "language": "python",
     "metadata": {},
     "outputs": [
      {
       "output_type": "stream",
       "stream": "stdout",
       "text": [
        "-- Grabbing 100 pages --\n",
        "-- Results cached --"
       ]
      },
      {
       "output_type": "stream",
       "stream": "stdout",
       "text": [
        "\n",
        "Number of users found: 4767\n",
        "Number of repos found: 8642\n"
       ]
      }
     ],
     "prompt_number": 36
    },
    {
     "cell_type": "code",
     "collapsed": false,
     "input": [
      "import collections\n",
      "\n",
      "# This loop gives us the languages from repos that have a specified language\n",
      "# We can make a graph based on this, but mention that a lot of repos don't specify language\n",
      "\n",
      "languages = [repos[name]['language'] for name in repos.keys() if repos[name]['language']]\n",
      "lang_count = collections.Counter(languages)\n",
      "\n",
      "print lang_count\n",
      "\n",
      "\n",
      "#for name in names:\n",
      "#    if repos[name]['language'] != '':\n",
      "#        print repos[name]['language']"
     ],
     "language": "python",
     "metadata": {},
     "outputs": [
      {
       "output_type": "stream",
       "stream": "stdout",
       "text": [
        "Counter({u'python': 158, u'c': 30, u'php': 23, u'java': 22, u'c++': 20, u'perl': 16, u'ruby': 13, u'javascript': 12, u'ocaml': 7, u'objective-c': 6, u'shell': 6, u'delphi': 5, u'c#': 5, u'emacs lisp': 4, u'haskell': 4, u'ada': 4, u'latex': 4, u'common lisp': 3, u'matlab': 2, u'viml': 2, u'clojure': 2, u'go': 1, u'racket': 1, u'haxe': 1, u'sql': 1, u'groovy': 1, u'd': 1, u'html/css': 1, u'zsh': 1})\n"
       ]
      }
     ],
     "prompt_number": 48
    },
    {
     "cell_type": "code",
     "collapsed": false,
     "input": [
      "# This loop gets the number of repos per user\n",
      "# What we're showing in this counter is the number of users who had <n> repos\n",
      "# For example, when I ran this, the first few wer \"2: 3063, 4: 755\"\n",
      "# This means there were 3063 users that had 2 repos, and 755 users who had 4 repos\n",
      "# There is a weird pattern going on with this data, though. There are no odd numbers of repos\n",
      "# Need to check for errors\n",
      "\n",
      "num_repos_per_user = [ len(users[name]) for name in users.keys() ]\n",
      "num_repos_count = collections.Counter(num_repos_per_user)\n",
      "\n",
      "print num_repos_count"
     ],
     "language": "python",
     "metadata": {},
     "outputs": [
      {
       "output_type": "stream",
       "stream": "stdout",
       "text": [
        "Counter({2: 3063, 4: 755, 6: 343, 8: 193, 10: 116, 12: 86, 14: 47, 16: 27, 18: 26, 20: 22, 24: 17, 22: 16, 28: 10, 26: 7, 30: 7, 32: 5, 34: 4, 50: 4, 36: 3, 38: 2, 44: 2, 46: 2, 52: 2, 42: 1, 48: 1, 60: 1, 62: 1, 200: 1, 76: 1, 88: 1, 90: 1})\n"
       ]
      }
     ],
     "prompt_number": 49
    },
    {
     "cell_type": "code",
     "collapsed": false,
     "input": [],
     "language": "python",
     "metadata": {},
     "outputs": []
    }
   ],
   "metadata": {}
  }
 ]
}